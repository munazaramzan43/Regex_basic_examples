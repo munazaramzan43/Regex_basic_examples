{
 "cells": [
  {
   "cell_type": "code",
   "execution_count": 16,
   "id": "06e4f7e0",
   "metadata": {},
   "outputs": [],
   "source": [
    "import re"
   ]
  },
  {
   "cell_type": "code",
   "execution_count": 5,
   "id": "b9748908",
   "metadata": {},
   "outputs": [
    {
     "data": {
      "text/plain": [
       "['FY2021 Q1', 'FY2020 Q4']"
      ]
     },
     "execution_count": 5,
     "metadata": {},
     "output_type": "execute_result"
    }
   ],
   "source": [
    "Text=\"the gross cost in FY2021 Q1 was $4.85 billion. In previous quarter i.e. FY2020 Q4 was $3 billion.\"\n",
    "pattern= 'FY\\d{4} Q[1-4]'\n",
    "matches=re.findall(pattern,Text)\n",
    "\n",
    "# matches=re.findall(pattern,Text,flags=re.IGNORECASE)\n",
    "\n",
    "matches"
   ]
  },
  {
   "cell_type": "code",
   "execution_count": 6,
   "id": "867ff547",
   "metadata": {},
   "outputs": [
    {
     "data": {
      "text/plain": [
       "['$4.85', '$3']"
      ]
     },
     "execution_count": 6,
     "metadata": {},
     "output_type": "execute_result"
    }
   ],
   "source": [
    "pattern1= '\\$[0-9\\.]+'\n",
    "matches1=re.findall(pattern1,Text)\n",
    "matches1"
   ]
  },
  {
   "cell_type": "code",
   "execution_count": 8,
   "id": "3b2651b6",
   "metadata": {},
   "outputs": [
    {
     "data": {
      "text/plain": [
       "['4.85', '3']"
      ]
     },
     "execution_count": 8,
     "metadata": {},
     "output_type": "execute_result"
    }
   ],
   "source": [
    "pattern2= '\\$([0-9\\.]+)'\n",
    "matches2=re.findall(pattern2,Text)\n",
    "matches2\n"
   ]
  },
  {
   "cell_type": "code",
   "execution_count": 10,
   "id": "13ed8920",
   "metadata": {},
   "outputs": [
    {
     "data": {
      "text/plain": [
       "[' Credit Risk', ' Supply Risk']"
      ]
     },
     "execution_count": 10,
     "metadata": {},
     "output_type": "execute_result"
    }
   ],
   "source": [
    "text3 = '''\n",
    "Concentration of Risk: Credit Risk\n",
    "Financial instruments that potentially subject us to a concentration of credit risk consist of cash, cash equivalents, marketable securities,\n",
    "restricted cash, accounts receivable, convertible note hedges, and interest rate swaps. Our cash balances are primarily invested in money market funds\n",
    "or on deposit at high credit quality financial institutions in the U.S. These deposits are typically in excess of insured limits. As of September 30, 2021\n",
    "and December 31, 2020, no entity represented 10% or more of our total accounts receivable balance. The risk of concentration for our convertible note\n",
    "hedges and interest rate swaps is mitigated by transacting with several highly-rated multinational banks.\n",
    "Concentration of Risk: Supply Risk\n",
    "We are dependent on our suppliers, including single source suppliers, and the inability of these suppliers to deliver necessary components of our\n",
    "products in a timely manner at prices, quality levels and volumes acceptable to us, or our inability to efficiently manage these components from these\n",
    "suppliers, could have a material adverse effect on our business, prospects, financial condition and operating results.\n",
    "'''\n",
    "pattern3 = 'Concentration of Risk:([^\\n]*)' \n",
    "\n",
    "re.findall(pattern3, text3)\n"
   ]
  },
  {
   "cell_type": "code",
   "execution_count": 18,
   "id": "5e686c2b",
   "metadata": {},
   "outputs": [
    {
     "data": {
      "text/plain": [
       "['123654987']"
      ]
     },
     "execution_count": 18,
     "metadata": {},
     "output_type": "execute_result"
    }
   ],
   "source": [
    "chat1='hello! my mobile number is 123654987 and email-id is mun@gmail.com'\n",
    "chat1_pat= '\\d{9}'\n",
    "matches_chat1=re.findall(chat1_pat,chat1)\n",
    "matches_chat1"
   ]
  },
  {
   "cell_type": "code",
   "execution_count": 45,
   "id": "2e5dbf34",
   "metadata": {},
   "outputs": [
    {
     "data": {
      "text/plain": [
       "['mun@gmail.com', 'mun_82@gmail.com', 'mun@ram.in']"
      ]
     },
     "execution_count": 45,
     "metadata": {},
     "output_type": "execute_result"
    }
   ],
   "source": [
    "chat2='hello! my mobile number is: (123)-654-987 and 123896547 and I have 3 email-ids: mun@gmail.com mun_82@gmail.com and mun@ram.in'\n",
    "chat2_pat= '\\d{9}|\\(\\d{3}\\)\\-\\d{3}\\-\\d{3}'\n",
    "matches_chat2=re.findall(chat2_pat,chat2)\n",
    "matches_chat2\n",
    "email_pat='[a-z0-9A-Z_]*@[a-z0-9A-Z]*\\.[a-z0-9A-Z]*'\n",
    "matches_email1=re.findall(email_pat,chat2)\n",
    "\n",
    "matches_email1"
   ]
  },
  {
   "cell_type": "code",
   "execution_count": 39,
   "id": "c345cff2",
   "metadata": {},
   "outputs": [
    {
     "data": {
      "text/plain": [
       "['893654987']"
      ]
     },
     "execution_count": 39,
     "metadata": {},
     "output_type": "execute_result"
    }
   ],
   "source": [
    "order1='hello! my order number 123654987'\n",
    "order2='hello! my order # 923654987'\n",
    "order3='hello! my order 893654987 is delayed'\n",
    "\n",
    "order_pat='order[^\\d]*(\\d*)'\n",
    "match_ord= re.findall(order_pat,order3)\n",
    "\n",
    "match_ord\n",
    "\n"
   ]
  },
  {
   "cell_type": "code",
   "execution_count": 40,
   "id": "ee816d7d",
   "metadata": {},
   "outputs": [],
   "source": [
    "# .*............> dont grab all the characters\n",
    "# (.*).............> grab all the characters from particular line"
   ]
  },
  {
   "cell_type": "code",
   "execution_count": 46,
   "id": "8364e1ee",
   "metadata": {},
   "outputs": [],
   "source": [
    "def regex_pattern_fxn(pattern_in,text_in):\n",
    "    match_pat=re.findall(pattern_in,text_in)\n",
    "    if match_pat:\n",
    "        return match_pat"
   ]
  },
  {
   "cell_type": "code",
   "execution_count": 47,
   "id": "3e0190dc",
   "metadata": {},
   "outputs": [
    {
     "data": {
      "text/plain": [
       "['mun@gmail.com', 'mun_82@gmail.com', 'mun@ram.in']"
      ]
     },
     "execution_count": 47,
     "metadata": {},
     "output_type": "execute_result"
    }
   ],
   "source": [
    "regex_pattern_fxn('[a-z0-9A-Z_]*@[a-z0-9A-Z]*\\.[a-z0-9A-Z]*',chat2)"
   ]
  },
  {
   "cell_type": "code",
   "execution_count": null,
   "id": "eb976876",
   "metadata": {},
   "outputs": [],
   "source": []
  }
 ],
 "metadata": {
  "kernelspec": {
   "display_name": "Python 3 (ipykernel)",
   "language": "python",
   "name": "python3"
  },
  "language_info": {
   "codemirror_mode": {
    "name": "ipython",
    "version": 3
   },
   "file_extension": ".py",
   "mimetype": "text/x-python",
   "name": "python",
   "nbconvert_exporter": "python",
   "pygments_lexer": "ipython3",
   "version": "3.9.7"
  }
 },
 "nbformat": 4,
 "nbformat_minor": 5
}
